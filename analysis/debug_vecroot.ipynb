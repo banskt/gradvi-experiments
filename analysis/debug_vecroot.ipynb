{
 "cells": [
  {
   "cell_type": "code",
   "execution_count": 38,
   "id": "c8285400",
   "metadata": {},
   "outputs": [],
   "source": [
    "import numpy as np\n",
    "from gradvi.optimize import root_find\n",
    "\n",
    "import matplotlib.pyplot as plt\n",
    "from pymir import mpl_stylesheet\n",
    "from pymir import mpl_utils\n",
    "mpl_stylesheet.banskt_presentation(splinecolor = 'black')"
   ]
  },
  {
   "cell_type": "code",
   "execution_count": 39,
   "id": "cc41c09b",
   "metadata": {},
   "outputs": [],
   "source": [
    "_epsilon = np.sqrt(np.finfo(float).eps)\n",
    "\n",
    "def cubefun(x, b, a):\n",
    "    x2 = np.square(x)\n",
    "    f = a * x2 * x - b\n",
    "    return f\n",
    "\n",
    "def cubefun_grad(x, b, a):\n",
    "    x2 = np.square(x)\n",
    "    f  = a * x2 * x - b\n",
    "    df = 3.0 * a * x2\n",
    "    return f, df\n",
    "\n",
    "def cubefun_solve(b, a):\n",
    "    xr = np.cbrt(b / a)\n",
    "    return xr\n",
    "\n",
    "\n",
    "def cubefun_bracket(b, a):\n",
    "    xr = cubefun_solve(b, a)\n",
    "    n  = xr.shape[0]\n",
    "    xlo = xr - np.abs(np.random.normal(1, 0.2, size = n))\n",
    "    xup = xr + np.abs(np.random.normal(1, 0.2, size = n))\n",
    "    return [xlo, xup]"
   ]
  },
  {
   "cell_type": "code",
   "execution_count": 42,
   "id": "5c701205",
   "metadata": {},
   "outputs": [],
   "source": [
    "np.random.seed(100)\n",
    "n = 10\n",
    "a = np.random.normal(10, 1, size = n)\n",
    "b = np.random.normal(2, 1, size = n)\n",
    "x0 = np.ones(n)\n",
    "xtrue = cubefun_solve(b, a)"
   ]
  },
  {
   "cell_type": "code",
   "execution_count": 43,
   "id": "010916b3",
   "metadata": {},
   "outputs": [
    {
     "data": {
      "text/plain": [
       "array([0.57174647, 0.61749248, 0.50264895, 0.66113334, 0.62435703,\n",
       "       0.56492272, 0.52377644, 0.69745842, 0.54198092, 0.44135906])"
      ]
     },
     "execution_count": 43,
     "metadata": {},
     "output_type": "execute_result"
    }
   ],
   "source": [
    "xtrue"
   ]
  },
  {
   "cell_type": "code",
   "execution_count": 44,
   "id": "e3ac2b92",
   "metadata": {},
   "outputs": [
    {
     "data": {
      "text/plain": [
       "array([-4.44089210e-16, -8.88178420e-16, -1.33226763e-15,  0.00000000e+00,\n",
       "       -1.77635684e-15, -1.55431223e-15, -4.44089210e-16, -1.77635684e-15,\n",
       "       -6.66133815e-16, -1.11022302e-16])"
      ]
     },
     "execution_count": 44,
     "metadata": {},
     "output_type": "execute_result"
    }
   ],
   "source": [
    "cubefun(xtrue, b, a)"
   ]
  },
  {
   "cell_type": "code",
   "execution_count": 45,
   "id": "708926a7",
   "metadata": {},
   "outputs": [
    {
     "data": {
      "text/plain": [
       "(array([-4.44089210e-16, -8.88178420e-16, -1.33226763e-15,  0.00000000e+00,\n",
       "        -1.77635684e-15, -1.55431223e-15, -4.44089210e-16, -1.77635684e-15,\n",
       "        -6.66133815e-16, -1.11022302e-16]),\n",
       " array([ 8.09085718, 11.83089787,  8.45364314, 12.78190148, 12.8422714 ,\n",
       "        10.06645037,  8.41228919, 13.03188523,  8.64531012,  5.99295567]))"
      ]
     },
     "execution_count": 45,
     "metadata": {},
     "output_type": "execute_result"
    }
   ],
   "source": [
    "cubefun_grad(xtrue, b, a)"
   ]
  },
  {
   "cell_type": "code",
   "execution_count": 46,
   "id": "b188ce5a",
   "metadata": {},
   "outputs": [
    {
     "data": {
      "text/plain": [
       "(array([-1.54197301, -2.43516349, -1.41640495, -2.81684707, -2.67272081,\n",
       "        -1.89558886, -1.46871962, -3.02973269, -1.56186438, -0.88168175]),\n",
       " array([0., 0., 0., 0., 0., 0., 0., 0., 0., 0.]))"
      ]
     },
     "execution_count": 46,
     "metadata": {},
     "output_type": "execute_result"
    }
   ],
   "source": [
    "cubefun_grad(np.zeros(n), b, a)"
   ]
  },
  {
   "cell_type": "code",
   "execution_count": 47,
   "id": "d76e38f5",
   "metadata": {},
   "outputs": [
    {
     "data": {
      "text/plain": [
       "[array([-0.75204986, -0.69082856, -0.44697522, -0.17037951, -0.41254671,\n",
       "        -0.62249372, -0.62242363, -0.57485281, -0.39277147, -0.56977615]),\n",
       " array([1.61622639, 1.32884908, 1.35137849, 1.82442414, 1.77444598,\n",
       "        1.47373334, 1.76170089, 1.35933505, 1.27070111, 1.19487215])]"
      ]
     },
     "execution_count": 47,
     "metadata": {},
     "output_type": "execute_result"
    }
   ],
   "source": [
    "cubefun_bracket(b, a)"
   ]
  },
  {
   "cell_type": "code",
   "execution_count": 51,
   "id": "50e97004",
   "metadata": {},
   "outputs": [],
   "source": [
    "from gradvi.optimize import bracket\n",
    "#xlo, xup, nfev = bracket.bracket_postmean(cubefun, b, args = (a,))\n",
    "xlo, xup = cubefun_bracket(b, a)"
   ]
  },
  {
   "cell_type": "code",
   "execution_count": 52,
   "id": "495d1de5",
   "metadata": {},
   "outputs": [
    {
     "data": {
      "text/plain": [
       "array([-0.3193657 , -0.24887317, -0.49881396, -0.21627891, -0.63559259,\n",
       "       -0.08845815, -0.27956154, -0.37404313, -0.13530338, -0.85278372])"
      ]
     },
     "execution_count": 52,
     "metadata": {},
     "output_type": "execute_result"
    }
   ],
   "source": [
    "xlo"
   ]
  },
  {
   "cell_type": "code",
   "execution_count": 53,
   "id": "8acc8007",
   "metadata": {},
   "outputs": [
    {
     "data": {
      "text/plain": [
       "array([1.33414295, 1.50754324, 1.31463972, 1.49554687, 1.64612972,\n",
       "       1.66648464, 1.35133097, 1.94735237, 1.52605867, 1.26341276])"
      ]
     },
     "execution_count": 53,
     "metadata": {},
     "output_type": "execute_result"
    }
   ],
   "source": [
    "xup"
   ]
  },
  {
   "cell_type": "code",
   "execution_count": 54,
   "id": "b2e5cdfb",
   "metadata": {},
   "outputs": [
    {
     "data": {
      "text/plain": [
       "array([-1.81071226, -2.5945925 , -2.800637  , -2.91546108, -5.49234382,\n",
       "       -1.9028665 , -1.69204255, -3.49705273, -1.58616499, -7.24161305])"
      ]
     },
     "execution_count": 54,
     "metadata": {},
     "output_type": "execute_result"
    }
   ],
   "source": [
    "cubefun(xlo, b, a)"
   ]
  },
  {
   "cell_type": "code",
   "execution_count": 55,
   "id": "e32d791f",
   "metadata": {},
   "outputs": [
    {
     "data": {
      "text/plain": [
       "array([18.04978433, 33.00065257, 23.9239879 , 29.78905171, 46.31043348,\n",
       "       46.76540329, 23.75366895, 62.91543538, 33.30436789, 19.79931671])"
      ]
     },
     "execution_count": 55,
     "metadata": {},
     "output_type": "execute_result"
    }
   ],
   "source": [
    "cubefun(xup, b, a)"
   ]
  },
  {
   "cell_type": "code",
   "execution_count": 58,
   "id": "b56000a3",
   "metadata": {},
   "outputs": [
    {
     "ename": "ValueError",
     "evalue": "Trisection - function must have opposite signs at the boundaries.",
     "output_type": "error",
     "traceback": [
      "\u001b[0;31m---------------------------------------------------------------------------\u001b[0m",
      "\u001b[0;31mValueError\u001b[0m                                Traceback (most recent call last)",
      "Input \u001b[0;32mIn [58]\u001b[0m, in \u001b[0;36m<cell line: 1>\u001b[0;34m()\u001b[0m\n\u001b[0;32m----> 1\u001b[0m \u001b[43mroot_find\u001b[49m\u001b[38;5;241;43m.\u001b[39;49m\u001b[43mvec_root\u001b[49m\u001b[43m(\u001b[49m\u001b[43mcubefun\u001b[49m\u001b[43m,\u001b[49m\u001b[43m \u001b[49m\u001b[43mnp\u001b[49m\u001b[38;5;241;43m.\u001b[39;49m\u001b[43mzeros\u001b[49m\u001b[43m(\u001b[49m\u001b[43mn\u001b[49m\u001b[43m)\u001b[49m\u001b[43m,\u001b[49m\u001b[43m \u001b[49m\u001b[43margs\u001b[49m\u001b[43m \u001b[49m\u001b[38;5;241;43m=\u001b[39;49m\u001b[43m \u001b[49m\u001b[43m(\u001b[49m\u001b[43mb\u001b[49m\u001b[43m,\u001b[49m\u001b[43m \u001b[49m\u001b[43mnp\u001b[49m\u001b[38;5;241;43m.\u001b[39;49m\u001b[43mzeros\u001b[49m\u001b[43m(\u001b[49m\u001b[43mn\u001b[49m\u001b[43m)\u001b[49m\u001b[43m)\u001b[49m\u001b[43m,\u001b[49m\u001b[43m \u001b[49m\u001b[43mmethod\u001b[49m\u001b[43m \u001b[49m\u001b[38;5;241;43m=\u001b[39;49m\u001b[43m \u001b[49m\u001b[38;5;124;43m'\u001b[39;49m\u001b[38;5;124;43mtrisection\u001b[39;49m\u001b[38;5;124;43m'\u001b[39;49m\u001b[43m,\u001b[49m\n\u001b[1;32m      2\u001b[0m \u001b[43m                   \u001b[49m\u001b[43mbracket\u001b[49m\u001b[43m \u001b[49m\u001b[38;5;241;43m=\u001b[39;49m\u001b[43m \u001b[49m\u001b[43m[\u001b[49m\u001b[43mb\u001b[49m\u001b[43m \u001b[49m\u001b[38;5;241;43m-\u001b[39;49m\u001b[43m \u001b[49m\u001b[38;5;241;43m1.\u001b[39;49m\u001b[43m,\u001b[49m\u001b[43m \u001b[49m\u001b[43mb\u001b[49m\u001b[43m \u001b[49m\u001b[38;5;241;43m+\u001b[39;49m\u001b[43m \u001b[49m\u001b[38;5;241;43m1.\u001b[39;49m\u001b[43m]\u001b[49m\u001b[43m)\u001b[49m\n",
      "File \u001b[0;32m~/software/gradvi/src/gradvi/optimize/root_find.py:155\u001b[0m, in \u001b[0;36mvec_root\u001b[0;34m(func, x0, args, method, jac, bracket, tol, maxiter, fx, bounds, options)\u001b[0m\n\u001b[1;32m    152\u001b[0m     res \u001b[38;5;241m=\u001b[39m root_newton(func, x0, jac, args, \u001b[38;5;241m*\u001b[39m\u001b[38;5;241m*\u001b[39moptions)\n\u001b[1;32m    154\u001b[0m \u001b[38;5;28;01melif\u001b[39;00m meth \u001b[38;5;241m==\u001b[39m \u001b[38;5;124m'\u001b[39m\u001b[38;5;124mtrisection\u001b[39m\u001b[38;5;124m'\u001b[39m:\n\u001b[0;32m--> 155\u001b[0m     res \u001b[38;5;241m=\u001b[39m \u001b[43mroot_trisection\u001b[49m\u001b[43m(\u001b[49m\u001b[43mfunc\u001b[49m\u001b[43m,\u001b[49m\u001b[43m \u001b[49m\u001b[43margs\u001b[49m\u001b[43m,\u001b[49m\u001b[43m \u001b[49m\u001b[43mbracket\u001b[49m\u001b[43m \u001b[49m\u001b[38;5;241;43m=\u001b[39;49m\u001b[43m \u001b[49m\u001b[43mbracket\u001b[49m\u001b[43m,\u001b[49m\u001b[43m \u001b[49m\u001b[38;5;241;43m*\u001b[39;49m\u001b[38;5;241;43m*\u001b[39;49m\u001b[43moptions\u001b[49m\u001b[43m)\u001b[49m\n\u001b[1;32m    157\u001b[0m \u001b[38;5;28;01melif\u001b[39;00m meth \u001b[38;5;241m==\u001b[39m \u001b[38;5;124m'\u001b[39m\u001b[38;5;124mfssi-linear\u001b[39m\u001b[38;5;124m'\u001b[39m:\n\u001b[1;32m    158\u001b[0m     res \u001b[38;5;241m=\u001b[39m root_fssi(func, fx, args, interpolate \u001b[38;5;241m=\u001b[39m \u001b[38;5;124m'\u001b[39m\u001b[38;5;124mlinear\u001b[39m\u001b[38;5;124m'\u001b[39m, bounds \u001b[38;5;241m=\u001b[39m bounds, \u001b[38;5;241m*\u001b[39m\u001b[38;5;241m*\u001b[39moptions)\n",
      "File \u001b[0;32m~/software/gradvi/src/gradvi/optimize/root_find.py:543\u001b[0m, in \u001b[0;36mroot_trisection\u001b[0;34m(func, args, bracket, tol, maxiter, full_output, **unknown_options)\u001b[0m\n\u001b[1;32m    540\u001b[0m nfev \u001b[38;5;241m=\u001b[39m \u001b[38;5;241m2\u001b[39m\n\u001b[1;32m    542\u001b[0m \u001b[38;5;28;01mif\u001b[39;00m np\u001b[38;5;241m.\u001b[39many(np\u001b[38;5;241m.\u001b[39msign(fb) \u001b[38;5;241m*\u001b[39m np\u001b[38;5;241m.\u001b[39msign(fa) \u001b[38;5;241m>\u001b[39m \u001b[38;5;241m0\u001b[39m):\n\u001b[0;32m--> 543\u001b[0m     \u001b[38;5;28;01mraise\u001b[39;00m \u001b[38;5;167;01mValueError\u001b[39;00m(\u001b[38;5;124m\"\u001b[39m\u001b[38;5;124mTrisection - function must have opposite signs at the boundaries.\u001b[39m\u001b[38;5;124m\"\u001b[39m)\n\u001b[1;32m    545\u001b[0m \u001b[38;5;66;03m# Switch around values so that we have strictly fb > fa.\u001b[39;00m\n\u001b[1;32m    546\u001b[0m \u001b[38;5;28;01mif\u001b[39;00m \u001b[38;5;129;01mnot\u001b[39;00m np\u001b[38;5;241m.\u001b[39mall(fb \u001b[38;5;241m>\u001b[39m fa):\n",
      "\u001b[0;31mValueError\u001b[0m: Trisection - function must have opposite signs at the boundaries."
     ]
    }
   ],
   "source": [
    "root_find.vec_root(cubefun, np.zeros(n), args = (b, np.zeros(n)), method = 'trisection',\n",
    "                   bracket = [b - 1., b + 1.])"
   ]
  },
  {
   "cell_type": "code",
   "execution_count": 59,
   "id": "cb0bf281",
   "metadata": {},
   "outputs": [
    {
     "data": {
      "text/plain": [
       "array([-1.54197301, -2.43516349, -1.41640495, -2.81684707, -2.67272081,\n",
       "       -1.89558886, -1.46871962, -3.02973269, -1.56186438, -0.88168175])"
      ]
     },
     "execution_count": 59,
     "metadata": {},
     "output_type": "execute_result"
    }
   ],
   "source": [
    "cubefun(b - 1.0, b, np.zeros(n))"
   ]
  },
  {
   "cell_type": "code",
   "execution_count": 61,
   "id": "3162658a",
   "metadata": {},
   "outputs": [
    {
     "data": {
      "text/plain": [
       "array([-1.54197301, -2.43516349, -1.41640495, -2.81684707, -2.67272081,\n",
       "       -1.89558886, -1.46871962, -3.02973269, -1.56186438, -0.88168175])"
      ]
     },
     "execution_count": 61,
     "metadata": {},
     "output_type": "execute_result"
    }
   ],
   "source": [
    "cubefun(b + 1.0, b, np.zeros(n))"
   ]
  },
  {
   "cell_type": "code",
   "execution_count": null,
   "id": "35aba63e",
   "metadata": {},
   "outputs": [],
   "source": []
  },
  {
   "cell_type": "code",
   "execution_count": null,
   "id": "b42bb6eb",
   "metadata": {},
   "outputs": [],
   "source": []
  },
  {
   "cell_type": "code",
   "execution_count": 37,
   "id": "d394e442",
   "metadata": {},
   "outputs": [
    {
     "name": "stdout",
     "output_type": "stream",
     "text": [
      "Could not find solution using FSSI.\n"
     ]
    },
    {
     "ename": "ValueError",
     "evalue": "Trisection - function must have opposite signs at the boundaries.",
     "output_type": "error",
     "traceback": [
      "\u001b[0;31m---------------------------------------------------------------------------\u001b[0m",
      "\u001b[0;31mArithmeticError\u001b[0m                           Traceback (most recent call last)",
      "Input \u001b[0;32mIn [37]\u001b[0m, in \u001b[0;36m<cell line: 10>\u001b[0;34m()\u001b[0m\n\u001b[1;32m     10\u001b[0m \u001b[38;5;28;01mtry\u001b[39;00m:\n\u001b[0;32m---> 11\u001b[0m     \u001b[43mroot_find\u001b[49m\u001b[38;5;241;43m.\u001b[39;49m\u001b[43mroot_fssi\u001b[49m\u001b[43m(\u001b[49m\u001b[43mcubefun_grad_fssi\u001b[49m\u001b[43m,\u001b[49m\u001b[43m \u001b[49m\u001b[43mb\u001b[49m\u001b[43m,\u001b[49m\u001b[43m \u001b[49m\u001b[43margs\u001b[49m\u001b[43m \u001b[49m\u001b[38;5;241;43m=\u001b[39;49m\u001b[43m \u001b[49m\u001b[43m(\u001b[49m\u001b[38;5;241;43m0.0\u001b[39;49m\u001b[43m,\u001b[49m\u001b[43m)\u001b[49m\u001b[43m,\u001b[49m\u001b[43m \u001b[49m\u001b[43mbounds\u001b[49m\u001b[43m \u001b[49m\u001b[38;5;241;43m=\u001b[39;49m\u001b[43m \u001b[49m\u001b[43m[\u001b[49m\u001b[38;5;241;43m0.33\u001b[39;49m\u001b[43m,\u001b[49m\u001b[43m \u001b[49m\u001b[38;5;241;43m3.1\u001b[39;49m\u001b[43m]\u001b[49m\u001b[43m,\u001b[49m\u001b[43m \u001b[49m\u001b[43mfull_output\u001b[49m\u001b[38;5;241;43m=\u001b[39;49m\u001b[38;5;28;43;01mTrue\u001b[39;49;00m\u001b[43m)\u001b[49m\n\u001b[1;32m     12\u001b[0m \u001b[38;5;28;01mexcept\u001b[39;00m \u001b[38;5;167;01mArithmeticError\u001b[39;00m \u001b[38;5;28;01mas\u001b[39;00m err:\n",
      "File \u001b[0;32m~/software/gradvi/src/gradvi/optimize/root_find.py:468\u001b[0m, in \u001b[0;36mroot_fssi\u001b[0;34m(func, y, args, interpolate, ngrid, bounds, full_output, grid_scale, **unknown_options)\u001b[0m\n\u001b[1;32m    467\u001b[0m \u001b[38;5;28;01mif\u001b[39;00m np\u001b[38;5;241m.\u001b[39many(dfdx \u001b[38;5;241m==\u001b[39m \u001b[38;5;241m0\u001b[39m):\n\u001b[0;32m--> 468\u001b[0m     \u001b[38;5;28;01mraise\u001b[39;00m \u001b[38;5;167;01mArithmeticError\u001b[39;00m(\u001b[38;5;124m\"\u001b[39m\u001b[38;5;124mDerivative of f(x) returns zero values.\u001b[39m\u001b[38;5;124m\"\u001b[39m)\n\u001b[1;32m    470\u001b[0m dgdy \u001b[38;5;241m=\u001b[39m \u001b[38;5;241m1\u001b[39m \u001b[38;5;241m/\u001b[39m dfdx\n",
      "\u001b[0;31mArithmeticError\u001b[0m: Derivative of f(x) returns zero values.",
      "\nDuring handling of the above exception, another exception occurred:\n",
      "\u001b[0;31mValueError\u001b[0m                                Traceback (most recent call last)",
      "Input \u001b[0;32mIn [37]\u001b[0m, in \u001b[0;36m<cell line: 10>\u001b[0;34m()\u001b[0m\n\u001b[1;32m     12\u001b[0m \u001b[38;5;28;01mexcept\u001b[39;00m \u001b[38;5;167;01mArithmeticError\u001b[39;00m \u001b[38;5;28;01mas\u001b[39;00m err:\n\u001b[1;32m     13\u001b[0m     \u001b[38;5;28mprint\u001b[39m(\u001b[38;5;124m\"\u001b[39m\u001b[38;5;124mCould not find solution using FSSI.\u001b[39m\u001b[38;5;124m\"\u001b[39m)\n\u001b[0;32m---> 14\u001b[0m     \u001b[43mroot_find\u001b[49m\u001b[38;5;241;43m.\u001b[39;49m\u001b[43mvec_root\u001b[49m\u001b[43m(\u001b[49m\u001b[43mcubefun\u001b[49m\u001b[43m,\u001b[49m\u001b[43m \u001b[49m\u001b[43mnp\u001b[49m\u001b[38;5;241;43m.\u001b[39;49m\u001b[43mzeros\u001b[49m\u001b[43m(\u001b[49m\u001b[43mn\u001b[49m\u001b[43m)\u001b[49m\u001b[43m,\u001b[49m\u001b[43m \u001b[49m\u001b[43margs\u001b[49m\u001b[43m \u001b[49m\u001b[38;5;241;43m=\u001b[39;49m\u001b[43m \u001b[49m\u001b[43m(\u001b[49m\u001b[43mb\u001b[49m\u001b[43m,\u001b[49m\u001b[43m \u001b[49m\u001b[43mnp\u001b[49m\u001b[38;5;241;43m.\u001b[39;49m\u001b[43mzeros\u001b[49m\u001b[43m(\u001b[49m\u001b[43mn\u001b[49m\u001b[43m)\u001b[49m\u001b[43m,\u001b[49m\u001b[43m)\u001b[49m\u001b[43m,\u001b[49m\u001b[43m \u001b[49m\u001b[43mmethod\u001b[49m\u001b[43m \u001b[49m\u001b[38;5;241;43m=\u001b[39;49m\u001b[43m \u001b[49m\u001b[38;5;124;43m'\u001b[39;49m\u001b[38;5;124;43mtrisection\u001b[39;49m\u001b[38;5;124;43m'\u001b[39;49m\u001b[43m,\u001b[49m\n\u001b[1;32m     15\u001b[0m \u001b[43m                       \u001b[49m\u001b[43mbracket\u001b[49m\u001b[43m \u001b[49m\u001b[38;5;241;43m=\u001b[39;49m\u001b[43m \u001b[49m\u001b[43m[\u001b[49m\u001b[43mxlo\u001b[49m\u001b[43m \u001b[49m\u001b[38;5;241;43m-\u001b[39;49m\u001b[43m \u001b[49m\u001b[38;5;241;43m3\u001b[39;49m\u001b[43m,\u001b[49m\u001b[43m \u001b[49m\u001b[43mxup\u001b[49m\u001b[43m]\u001b[49m\u001b[43m)\u001b[49m\n",
      "File \u001b[0;32m~/software/gradvi/src/gradvi/optimize/root_find.py:155\u001b[0m, in \u001b[0;36mvec_root\u001b[0;34m(func, x0, args, method, jac, bracket, tol, maxiter, fx, bounds, options)\u001b[0m\n\u001b[1;32m    152\u001b[0m     res \u001b[38;5;241m=\u001b[39m root_newton(func, x0, jac, args, \u001b[38;5;241m*\u001b[39m\u001b[38;5;241m*\u001b[39moptions)\n\u001b[1;32m    154\u001b[0m \u001b[38;5;28;01melif\u001b[39;00m meth \u001b[38;5;241m==\u001b[39m \u001b[38;5;124m'\u001b[39m\u001b[38;5;124mtrisection\u001b[39m\u001b[38;5;124m'\u001b[39m:\n\u001b[0;32m--> 155\u001b[0m     res \u001b[38;5;241m=\u001b[39m \u001b[43mroot_trisection\u001b[49m\u001b[43m(\u001b[49m\u001b[43mfunc\u001b[49m\u001b[43m,\u001b[49m\u001b[43m \u001b[49m\u001b[43margs\u001b[49m\u001b[43m,\u001b[49m\u001b[43m \u001b[49m\u001b[43mbracket\u001b[49m\u001b[43m \u001b[49m\u001b[38;5;241;43m=\u001b[39;49m\u001b[43m \u001b[49m\u001b[43mbracket\u001b[49m\u001b[43m,\u001b[49m\u001b[43m \u001b[49m\u001b[38;5;241;43m*\u001b[39;49m\u001b[38;5;241;43m*\u001b[39;49m\u001b[43moptions\u001b[49m\u001b[43m)\u001b[49m\n\u001b[1;32m    157\u001b[0m \u001b[38;5;28;01melif\u001b[39;00m meth \u001b[38;5;241m==\u001b[39m \u001b[38;5;124m'\u001b[39m\u001b[38;5;124mfssi-linear\u001b[39m\u001b[38;5;124m'\u001b[39m:\n\u001b[1;32m    158\u001b[0m     res \u001b[38;5;241m=\u001b[39m root_fssi(func, fx, args, interpolate \u001b[38;5;241m=\u001b[39m \u001b[38;5;124m'\u001b[39m\u001b[38;5;124mlinear\u001b[39m\u001b[38;5;124m'\u001b[39m, bounds \u001b[38;5;241m=\u001b[39m bounds, \u001b[38;5;241m*\u001b[39m\u001b[38;5;241m*\u001b[39moptions)\n",
      "File \u001b[0;32m~/software/gradvi/src/gradvi/optimize/root_find.py:543\u001b[0m, in \u001b[0;36mroot_trisection\u001b[0;34m(func, args, bracket, tol, maxiter, full_output, **unknown_options)\u001b[0m\n\u001b[1;32m    540\u001b[0m nfev \u001b[38;5;241m=\u001b[39m \u001b[38;5;241m2\u001b[39m\n\u001b[1;32m    542\u001b[0m \u001b[38;5;28;01mif\u001b[39;00m np\u001b[38;5;241m.\u001b[39many(np\u001b[38;5;241m.\u001b[39msign(fb) \u001b[38;5;241m*\u001b[39m np\u001b[38;5;241m.\u001b[39msign(fa) \u001b[38;5;241m>\u001b[39m \u001b[38;5;241m0\u001b[39m):\n\u001b[0;32m--> 543\u001b[0m     \u001b[38;5;28;01mraise\u001b[39;00m \u001b[38;5;167;01mValueError\u001b[39;00m(\u001b[38;5;124m\"\u001b[39m\u001b[38;5;124mTrisection - function must have opposite signs at the boundaries.\u001b[39m\u001b[38;5;124m\"\u001b[39m)\n\u001b[1;32m    545\u001b[0m \u001b[38;5;66;03m# Switch around values so that we have strictly fb > fa.\u001b[39;00m\n\u001b[1;32m    546\u001b[0m \u001b[38;5;28;01mif\u001b[39;00m \u001b[38;5;129;01mnot\u001b[39;00m np\u001b[38;5;241m.\u001b[39mall(fb \u001b[38;5;241m>\u001b[39m fa):\n",
      "\u001b[0;31mValueError\u001b[0m: Trisection - function must have opposite signs at the boundaries."
     ]
    }
   ],
   "source": [
    "def cubefun_grad_fssi(x, a):\n",
    "    x2 = np.square(x)\n",
    "    f  = a * x2 * x\n",
    "    df = 3.0 * a * x2\n",
    "    return f, df\n",
    "\n",
    "#root_find.vec_root(cubefun_grad_fssi, np.zeros(n), args = (a,), fx = b,\n",
    "#                   method = 'fssi-linear', jac = True, bounds = [-3, 3])\n",
    "\n",
    "try:\n",
    "    root_find.root_fssi(cubefun_grad_fssi, b, args = (0.0,), bounds = [0.33, 3.1], full_output=True)\n",
    "except ArithmeticError as err:\n",
    "    print(\"Could not find solution using FSSI.\")\n",
    "    root_find.vec_root(cubefun, np.zeros(n), args = (b, np.zeros(n),), method = 'trisection',\n",
    "                       bracket = [xlo - 3, xup])"
   ]
  },
  {
   "cell_type": "code",
   "execution_count": 28,
   "id": "85919122",
   "metadata": {},
   "outputs": [
    {
     "data": {
      "text/plain": [
       "array([ 8.25023453, 10.3426804 , 11.1530358 ,  9.74756396, 10.98132079,\n",
       "       10.51421884, 10.22117967,  8.92995667,  9.81050417, 10.25500144])"
      ]
     },
     "execution_count": 28,
     "metadata": {},
     "output_type": "execute_result"
    }
   ],
   "source": [
    "a"
   ]
  },
  {
   "cell_type": "code",
   "execution_count": null,
   "id": "4cc0ae94",
   "metadata": {},
   "outputs": [],
   "source": []
  },
  {
   "cell_type": "code",
   "execution_count": null,
   "id": "5ccfd89b",
   "metadata": {},
   "outputs": [],
   "source": []
  },
  {
   "cell_type": "code",
   "execution_count": 12,
   "id": "fdb0c1fa",
   "metadata": {},
   "outputs": [],
   "source": [
    "model, mu, beta = fit_ash_trendfiltering_gradvi(X, y, objtype,\n",
    "                    degree = degree, ncomp = ncomp, sparsity = sparsity, skbase = skbase,\n",
    "                    binit = binit, s2init = s2init)"
   ]
  },
  {
   "cell_type": "code",
   "execution_count": null,
   "id": "3b51af1d",
   "metadata": {},
   "outputs": [],
   "source": []
  }
 ],
 "metadata": {
  "kernelspec": {
   "display_name": "Python 3 (ipykernel)",
   "language": "python",
   "name": "python3"
  },
  "language_info": {
   "codemirror_mode": {
    "name": "ipython",
    "version": 3
   },
   "file_extension": ".py",
   "mimetype": "text/x-python",
   "name": "python",
   "nbconvert_exporter": "python",
   "pygments_lexer": "ipython3",
   "version": "3.9.12"
  }
 },
 "nbformat": 4,
 "nbformat_minor": 5
}
