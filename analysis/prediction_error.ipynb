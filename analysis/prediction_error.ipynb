{
 "cells": [
  {
   "cell_type": "code",
   "execution_count": 1,
   "id": "f7d8719b",
   "metadata": {},
   "outputs": [
    {
     "name": "stderr",
     "output_type": "stream",
     "text": [
      "INFO: cffi mode is CFFI_MODE.ANY\n",
      "INFO: R home found: /software/R-3.6.1-el7-x86_64/lib64/R\n",
      "INFO: R library path: /software/R-3.6.1-el7-x86_64/lib64/R/lib:/usr/local/lib64:/software/java-1.8-x86_64/jre/lib/amd64/server:/software/intel/parallel_studio_xe_2020_update1/mkl/lib/intel64:/software/R-3.6.1-el7-x86_64/lib64/R/lib:/software/R-3.6.1-el7-x86_64/lib64:/software/curl-7.50-el7-x86_64/lib:/software/java-1.8-x86_64/lib:/software/openblas-0.2.19-el7-x86_64/lib:/software/gcc-10.2.0-el7-x86_64/lib64:/software/gcc-10.2.0-el7-x86_64/lib:/software/slurm-current-el7-x86_64/lib64:/software/slurm-current-el7-x86_64/lib:/software/ruby-2.6-el7-x86_64/lib:/software/python-3.7.0-el7-x86_64/lib:/software/git-2.10-el7-x86_64/lib64:/software/subversion-1.9.4-el7-x86_64/lib:/software/serf-1.3.9-el7-x86_64/lib\n",
      "INFO: LD_LIBRARY_PATH: /software/intel/parallel_studio_xe_2020_update1/mkl/lib/intel64:/software/R-3.6.1-el7-x86_64/lib64/R/lib:/software/R-3.6.1-el7-x86_64/lib64:/software/curl-7.50-el7-x86_64/lib:/software/java-1.8-x86_64/lib:/software/openblas-0.2.19-el7-x86_64/lib:/software/gcc-10.2.0-el7-x86_64/lib64:/software/gcc-10.2.0-el7-x86_64/lib:/software/slurm-current-el7-x86_64/lib64:/software/slurm-current-el7-x86_64/lib:/software/ruby-2.6-el7-x86_64/lib:/software/python-3.7.0-el7-x86_64/lib:/software/git-2.10-el7-x86_64/lib64:/software/subversion-1.9.4-el7-x86_64/lib:/software/serf-1.3.9-el7-x86_64/lib\n",
      "INFO: Default options to initialize R: rpy2, --quiet, --no-save\n",
      "INFO: R is already initialized. No need to initialize.\n"
     ]
    }
   ],
   "source": [
    "%load_ext autoreload\n",
    "%autoreload 2\n",
    "\n",
    "import pandas as pd\n",
    "import numpy as np\n",
    "import math\n",
    "import os\n",
    "import collections\n",
    "import dscrutils2py as dscrutils\n",
    "\n",
    "import matplotlib.pyplot as plt\n",
    "import matplotlib.gridspec as gridspec\n",
    "from pymir import mpl_stylesheet\n",
    "from pymir import mpl_utils\n",
    "from pymir import pd_utils\n",
    "\n",
    "mpl_stylesheet.banskt_presentation(splinecolor = 'black', dpi = 72)"
   ]
  },
  {
   "cell_type": "code",
   "execution_count": 9,
   "id": "9dd74677",
   "metadata": {},
   "outputs": [],
   "source": [
    "dsc_outdir = os.path.realpath(\"/home/saikatbanerjee/scratch/work/gradvi-experiments/trial\")\n",
    "\n",
    "# methods in the simulation\n",
    "methods = [\n",
    "    \"ridge\", \"lasso\", \"elastic_net\",\n",
    "    \"lasso_1se\", \"elastic_net_1se\", \n",
    "    \"scad\", \"mcp\", \"l0learn\",\n",
    "    \"susie\", \"varbvs\", \"varbvsmix\", \"blasso\", \"bayesb\",\n",
    "    \"mr_ash\"\n",
    "]\n",
    "dims = [(50, 200),]\n",
    "sfix = [2,]\n",
    "targets = [\"simulate\", \"simulate.dims\", \"simulate.se\", \"simulate.rho\",\n",
    "           \"simulate.sfix\", \"simulate.pve\", \"fit\", \"fit.DSC_TIME\", \n",
    "           \"mse.err\", \"coef_mse.err\"]"
   ]
  },
  {
   "cell_type": "code",
   "execution_count": 3,
   "id": "530dcc37",
   "metadata": {},
   "outputs": [],
   "source": [
    "%%capture capt\n",
    "dscout = dscrutils.dscquery(dsc_outdir, targets)"
   ]
  },
  {
   "cell_type": "code",
   "execution_count": 5,
   "id": "3d53a152",
   "metadata": {},
   "outputs": [
    {
     "name": "stdout",
     "output_type": "stream",
     "text": [
      "Calling: dsc-query /project2/mstephens/sbanerjee/work/gradvi-experiments/trial -o /tmp/RtmpDjDbau/fileea513ca8f7a.csv --target \"simulate simulate.dims simulate.se simulate.rho simulate.sfix simulate.pve fit fit.DSC_TIME mse.err coef_mse.err\" --force \n",
      "Loaded dscquery output table with 56 rows and 13 columns.\n",
      "\n",
      "\n",
      "ERROR ==>\n",
      "Warning message:\n",
      "replacing previous import ‘lifecycle::last_warnings’ by ‘rlang::last_warnings’ when loading ‘hms’ \n",
      "\n"
     ]
    }
   ],
   "source": [
    "capt.show()"
   ]
  },
  {
   "cell_type": "code",
   "execution_count": 6,
   "id": "25b9a1dd",
   "metadata": {},
   "outputs": [],
   "source": [
    "import methodprops"
   ]
  },
  {
   "cell_type": "code",
   "execution_count": 8,
   "id": "90c92482",
   "metadata": {},
   "outputs": [
    {
     "data": {
      "text/html": [
       "<div>\n",
       "<style scoped>\n",
       "    .dataframe tbody tr th:only-of-type {\n",
       "        vertical-align: middle;\n",
       "    }\n",
       "\n",
       "    .dataframe tbody tr th {\n",
       "        vertical-align: top;\n",
       "    }\n",
       "\n",
       "    .dataframe thead th {\n",
       "        text-align: right;\n",
       "    }\n",
       "</style>\n",
       "<table border=\"1\" class=\"dataframe\">\n",
       "  <thead>\n",
       "    <tr style=\"text-align: right;\">\n",
       "      <th></th>\n",
       "      <th>DSC</th>\n",
       "      <th>simulate</th>\n",
       "      <th>simulate.dims</th>\n",
       "      <th>simulate.se</th>\n",
       "      <th>simulate.rho</th>\n",
       "      <th>simulate.sfix</th>\n",
       "      <th>simulate.pve</th>\n",
       "      <th>fit</th>\n",
       "      <th>fit.DSC_TIME</th>\n",
       "      <th>mse.err</th>\n",
       "      <th>coef_mse.err</th>\n",
       "    </tr>\n",
       "  </thead>\n",
       "  <tbody>\n",
       "    <tr>\n",
       "      <th>24</th>\n",
       "      <td>1</td>\n",
       "      <td>equicorrgauss</td>\n",
       "      <td>(50,200)</td>\n",
       "      <td>0.876553</td>\n",
       "      <td>0.6</td>\n",
       "      <td>2</td>\n",
       "      <td>0.8</td>\n",
       "      <td>ridge</td>\n",
       "      <td>0.827</td>\n",
       "      <td>1.857478</td>\n",
       "      <td>NaN</td>\n",
       "    </tr>\n",
       "    <tr>\n",
       "      <th>25</th>\n",
       "      <td>2</td>\n",
       "      <td>equicorrgauss</td>\n",
       "      <td>(50,200)</td>\n",
       "      <td>0.267770</td>\n",
       "      <td>0.6</td>\n",
       "      <td>2</td>\n",
       "      <td>0.8</td>\n",
       "      <td>ridge</td>\n",
       "      <td>0.633</td>\n",
       "      <td>0.280098</td>\n",
       "      <td>NaN</td>\n",
       "    </tr>\n",
       "  </tbody>\n",
       "</table>\n",
       "</div>"
      ],
      "text/plain": [
       "    DSC       simulate simulate.dims  simulate.se  simulate.rho  \\\n",
       "24    1  equicorrgauss      (50,200)     0.876553           0.6   \n",
       "25    2  equicorrgauss      (50,200)     0.267770           0.6   \n",
       "\n",
       "    simulate.sfix  simulate.pve    fit  fit.DSC_TIME   mse.err  coef_mse.err  \n",
       "24              2           0.8  ridge         0.827  1.857478           NaN  \n",
       "25              2           0.8  ridge         0.633  0.280098           NaN  "
      ]
     },
     "execution_count": 8,
     "metadata": {},
     "output_type": "execute_result"
    }
   ],
   "source": [
    "method = methods[0]\n",
    "mconditions = [f\"$(fit) == {method}\"]\n",
    "dfselect = pd_utils.select_dfrows(dscout, mconditions)\n",
    "dfselect[~dfselect['mse.err'].isnull()]"
   ]
  },
  {
   "cell_type": "code",
   "execution_count": 14,
   "id": "c4d79bb3",
   "metadata": {},
   "outputs": [
    {
     "data": {
      "image/png": "[encoded data removed]",
      "text/plain": [
       "<Figure size 576x576 with 1 Axes>"
      ]
     },
     "metadata": {
      "needs_background": "light"
     },
     "output_type": "display_data"
    }
   ],
   "source": [
    "fig = plt.figure()\n",
    "ax1 = fig.add_subplot(111)\n",
    "plotmeta = methodprops.plot_metainfo()\n",
    "xscale = 'linear'\n",
    "yscale = 'log10'\n",
    "colname = 'coef_mse.err'\n",
    "for method in methods:\n",
    "    pm  = plotmeta[method]\n",
    "    mconditions = [f\"$(fit) == {method}\"]\n",
    "    dfm = pd_utils.select_dfrows(dscout, mconditions)\n",
    "    dfselect = dfm[~dfm[colname].isnull()]\n",
    "    xvals = [x for x in sfix]\n",
    "    yvals = np.mean(dfselect[colname].to_numpy())\n",
    "    ax1.plot(\n",
    "        mpl_utils.scale_array(xvals, xscale), \n",
    "        mpl_utils.scale_array(yvals, yscale), \n",
    "        label = pm.label, color = pm.color, lw = pm.linewidth / 2, \n",
    "        ls = pm.linestyle, marker = pm.marker, ms = pm.size / 1.2, \n",
    "        mec = pm.color, mfc = pm.facecolor, mew = pm.linewidth,\n",
    "        zorder = pm.zorder)\n",
    "ax1.legend()\n",
    "plt.show()"
   ]
  },
  {
   "cell_type": "code",
   "execution_count": null,
   "id": "6c69aff3",
   "metadata": {},
   "outputs": [],
   "source": []
  }
 ],
 "metadata": {
  "kernelspec": {
   "display_name": "Python 3 (ipykernel)",
   "language": "python",
   "name": "python3"
  },
  "language_info": {
   "codemirror_mode": {
    "name": "ipython",
    "version": 3
   },
   "file_extension": ".py",
   "mimetype": "text/x-python",
   "name": "python",
   "nbconvert_exporter": "python",
   "pygments_lexer": "ipython3",
   "version": "3.9.12"
  }
 },
 "nbformat": 4,
 "nbformat_minor": 5
}
