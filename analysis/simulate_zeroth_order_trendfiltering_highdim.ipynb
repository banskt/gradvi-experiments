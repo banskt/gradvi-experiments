{
 "cells": [
  {
   "cell_type": "code",
   "execution_count": 1,
   "id": "fb36b95d-1406-476f-a6c6-2748e1b94e49",
   "metadata": {},
   "outputs": [],
   "source": [
    "import numpy as np\n",
    "import sys\n",
    "sys.path.append(\"../dsc/functions\")\n",
    "import simulate"
   ]
  },
  {
   "cell_type": "code",
   "execution_count": 2,
   "id": "5947e4f7-6f02-454d-9465-4fdd0724a3f1",
   "metadata": {},
   "outputs": [],
   "source": [
    "n = 100000\n",
    "sfix = 10"
   ]
  },
  {
   "cell_type": "code",
   "execution_count": 3,
   "id": "902f06e1-41a4-4c50-acf0-3bffa403146f",
   "metadata": {},
   "outputs": [],
   "source": [
    "x = np.linspace(0, 1, n)\n",
    "knots = np.linspace(0, 1, sfix + 2)[1:-1]\n",
    "H, Hinv, Hscale, Hinvscale, y, ytest, ytrue, beta, snr = simulate.changepoint_from_btrue(x, sfix, 0.6, signal = \"normal\", seed = 100)"
   ]
  },
  {
   "cell_type": "code",
   "execution_count": 4,
   "id": "5f8276f2-a87b-4a6c-bd1e-6fc5c1527e8d",
   "metadata": {},
   "outputs": [],
   "source": [
    "import matplotlib.pyplot as plt\n",
    "from pymir import mpl_stylesheet\n",
    "from pymir import mpl_utils\n",
    "mpl_stylesheet.banskt_presentation(splinecolor = 'black')"
   ]
  },
  {
   "cell_type": "code",
   "execution_count": 5,
   "id": "2ef80525-2bbd-4618-9bd3-71b50f8fa01d",
   "metadata": {},
   "outputs": [],
   "source": [
    "# fig = plt.figure()\n",
    "# ax1 = fig.add_subplot(111)\n",
    "# #ax1.scatter(x, y, s = 1, alpha = 0.1)\n",
    "# ax1.plot(x, ytrue1, label = \"Bspline\")\n",
    "# ax1.plot(x, ytrue2, label = \"Fast\")\n",
    "# ax1.legend()\n",
    "# plt.show()"
   ]
  },
  {
   "cell_type": "code",
   "execution_count": 6,
   "id": "f21d48c1-eb33-44f1-be58-25baf640fae9",
   "metadata": {},
   "outputs": [],
   "source": [
    "from gradvi.optimize import moving_average as gvma\n",
    "y_ma = gvma.moving_average(y)"
   ]
  },
  {
   "cell_type": "code",
   "execution_count": 7,
   "id": "c9166139-6a07-473b-97c8-1482ef301caa",
   "metadata": {},
   "outputs": [],
   "source": [
    "degree = 0\n",
    "Xinv = np.zeros((2, 2))\n",
    "s2init = None\n",
    "ncomp = 20\n",
    "sparsity = 0.99\n",
    "skbase = 2.0\n",
    "scale_grid = True\n",
    "scale_basis = False\n",
    "standardize_basis = False"
   ]
  },
  {
   "cell_type": "code",
   "execution_count": 8,
   "id": "6007f127-bcc8-4ead-bd6e-7bd4b0d3a41a",
   "metadata": {},
   "outputs": [
    {
     "name": "stdout",
     "output_type": "stream",
     "text": [
      "20.0\n"
     ]
    }
   ],
   "source": [
    "if scale_grid:\n",
    "    skfactor = (degree + 1) * 20.0\n",
    "else:\n",
    "    skfactor = 1.0 \n",
    "\n",
    "print (skfactor)"
   ]
  },
  {
   "cell_type": "code",
   "execution_count": 9,
   "id": "f02553c8-0d03-468f-870c-b0f978c955e0",
   "metadata": {},
   "outputs": [],
   "source": [
    "from gradvi.priors import Ash\n",
    "def get_ash(k = 20, sparsity = 0.8, skbase = 2.0, skfactor = 1.0, is_scaled = False, **kwargs):\n",
    "    wk = np.zeros(k)\n",
    "    wk[0] = 1.0 / k if sparsity is None else sparsity\n",
    "    wk[1:(k-1)] = np.repeat((1 - wk[0])/(k-1), (k - 2))\n",
    "    wk[k-1] = 1 - np.sum(wk)\n",
    "    sk = skfactor * np.abs(np.power(skbase, np.arange(k) / k) - 1)\n",
    "    prior = Ash(sk, wk = wk, scaled = is_scaled)\n",
    "    return prior"
   ]
  },
  {
   "cell_type": "code",
   "execution_count": 10,
   "id": "4d193657-b945-4b54-b15c-1cba4235b889",
   "metadata": {},
   "outputs": [],
   "source": [
    "# initialization\n",
    "prior_init = get_ash(k = ncomp, sparsity = sparsity, skbase = skbase, skfactor = skfactor)"
   ]
  },
  {
   "cell_type": "code",
   "execution_count": 11,
   "id": "99e45550-a8da-4e74-a54a-1f5ffa69d1af",
   "metadata": {},
   "outputs": [],
   "source": [
    "from gradvi.inference import Trendfiltering"
   ]
  },
  {
   "cell_type": "code",
   "execution_count": null,
   "id": "0e8f9bde-f4ed-45d7-a511-9fee87e5a572",
   "metadata": {},
   "outputs": [],
   "source": [
    "gv = Trendfiltering(maxiter = 2000)\n",
    "gv.fit(y, degree, prior_init, y_init = y_ma, s2_init = s2init)"
   ]
  },
  {
   "cell_type": "code",
   "execution_count": null,
   "id": "2e710e41-e98b-4a49-978c-5da4754b5c27",
   "metadata": {},
   "outputs": [],
   "source": [
    "fig = plt.figure()\n",
    "ax1 = fig.add_subplot(111)\n",
    "ax1.scatter(x, y, s = 1, alpha = 0.1)\n",
    "ax1.plot(x, ytrue, label = \"True\")\n",
    "ax1.plot(x, gv.ypred, label = \"GradVI\")\n",
    "ax1.plot(x, y_ma, label = \"Initial\")\n",
    "ax1.legend()\n",
    "plt.show()"
   ]
  },
  {
   "cell_type": "code",
   "execution_count": null,
   "id": "793c0d9c-0ce2-4971-9408-b957cb63712d",
   "metadata": {},
   "outputs": [],
   "source": [
    "from gradvi.models import basis_matrix as gvbm"
   ]
  },
  {
   "cell_type": "code",
   "execution_count": null,
   "id": "66483509-764b-49cf-a874-0c0ef2dae2c7",
   "metadata": {},
   "outputs": [],
   "source": [
    "Xinv = gvbm.trendfiltering_inverse(n, 2)\n",
    "Xinv"
   ]
  },
  {
   "cell_type": "code",
   "execution_count": null,
   "id": "9c2c45c6-d61b-4fd5-ad7a-fe9417fe6f25",
   "metadata": {},
   "outputs": [],
   "source": [
    "y_ma"
   ]
  },
  {
   "cell_type": "code",
   "execution_count": null,
   "id": "5aad5a95-3703-4562-b5c6-2ee94429403f",
   "metadata": {},
   "outputs": [],
   "source": [
    "def discrete_difference(y, d):\n",
    "    ynew = y_ma.copy()\n",
    "    for i in range(d + 1):\n",
    "        ynew[i+1:] = np.diff(ynew[i:])\n",
    "    return ynew"
   ]
  },
  {
   "cell_type": "code",
   "execution_count": null,
   "id": "af78365f-fd2d-4c5d-8c04-e848559bb559",
   "metadata": {},
   "outputs": [],
   "source": [
    "np.dot(Xinv, y_ma)"
   ]
  },
  {
   "cell_type": "code",
   "execution_count": null,
   "id": "625a69c8-984b-4602-8777-05ba927f91d5",
   "metadata": {},
   "outputs": [],
   "source": [
    "discrete_difference(y_ma, 2)"
   ]
  },
  {
   "cell_type": "code",
   "execution_count": null,
   "id": "447978ea-ea24-4091-a28a-adf2dee8803d",
   "metadata": {},
   "outputs": [],
   "source": [
    "ynew = y_ma.copy()"
   ]
  },
  {
   "cell_type": "code",
   "execution_count": null,
   "id": "7f44e9df-fbbe-46c9-81cb-b06792dc72a1",
   "metadata": {},
   "outputs": [],
   "source": [
    "ynew[1:] = np.diff(ynew)"
   ]
  },
  {
   "cell_type": "code",
   "execution_count": null,
   "id": "550beec9-c5bd-4f0c-a702-1df87d9d2da6",
   "metadata": {},
   "outputs": [],
   "source": [
    "ynew[2:] = np.diff(ynew[1:])"
   ]
  },
  {
   "cell_type": "code",
   "execution_count": null,
   "id": "d74af09b-0dd3-40b0-953b-de0fa6c3af95",
   "metadata": {},
   "outputs": [],
   "source": [
    "ynew[3:] = np.diff(ynew[2:])"
   ]
  },
  {
   "cell_type": "code",
   "execution_count": null,
   "id": "f406589f-ed28-4db7-80de-0f19bbbd5300",
   "metadata": {},
   "outputs": [],
   "source": [
    "ynew"
   ]
  },
  {
   "cell_type": "code",
   "execution_count": null,
   "id": "f8d09b22-9980-414c-960a-cdab38058833",
   "metadata": {},
   "outputs": [],
   "source": [
    "for i in range(2):\n",
    "    print(i)"
   ]
  },
  {
   "cell_type": "code",
   "execution_count": null,
   "id": "4edc5110-af56-4011-8ef0-aa965a1774a9",
   "metadata": {},
   "outputs": [],
   "source": [
    "np.diff(np.diff(np.diff(y_ma)))[:10]"
   ]
  },
  {
   "cell_type": "code",
   "execution_count": null,
   "id": "680d23dd-3ef5-4321-ac89-150e5c171c2e",
   "metadata": {},
   "outputs": [],
   "source": [
    "np.mean(y_ma)"
   ]
  },
  {
   "cell_type": "code",
   "execution_count": null,
   "id": "cdaca26d-53d5-413d-b9ae-3a8d774e3a35",
   "metadata": {},
   "outputs": [],
   "source": [
    "X = gvbm.trendfiltering(n, 1)"
   ]
  },
  {
   "cell_type": "code",
   "execution_count": null,
   "id": "7d1bcc81-dc08-4234-ab61-178164d5e58e",
   "metadata": {},
   "outputs": [],
   "source": [
    "np.sum(np.square(X), axis = 0)[2:10]"
   ]
  },
  {
   "cell_type": "code",
   "execution_count": null,
   "id": "22cebd3e-8bcc-4505-aca6-ce6ef65dc2dc",
   "metadata": {},
   "outputs": [],
   "source": [
    "np.linspace(n, 1, n).shape"
   ]
  },
  {
   "cell_type": "code",
   "execution_count": null,
   "id": "3e4fcb2c-f638-4855-a5c7-b95e4f09078e",
   "metadata": {},
   "outputs": [],
   "source": []
  },
  {
   "cell_type": "code",
   "execution_count": null,
   "id": "47d4e05d-64c6-4fb0-811c-570a727cd82d",
   "metadata": {},
   "outputs": [],
   "source": []
  },
  {
   "cell_type": "code",
   "execution_count": null,
   "id": "10518e15-d0af-4c0a-bb13-00e58ae1ac97",
   "metadata": {},
   "outputs": [],
   "source": []
  },
  {
   "cell_type": "code",
   "execution_count": null,
   "id": "7b1c4b32-80bf-4b8b-99ef-5d8f99cbe88b",
   "metadata": {},
   "outputs": [],
   "source": [
    "model, mu, beta, ypred = fit_ash_trendfiltering_gradvi(y, objtype, degree = degree, maxiter = 20000,\n",
    "                    ncomp = ncomp, sparsity = sparsity, skbase = skbase, skfactor = skfactor,\n",
    "                    yinit = yinit, s2init = s2init, run_initialize = False, # this is a separate initialization for theta\n",
    "                    standardize_basis = standardize_basis, scale_basis = scale_basis, standardize = True)\n"
   ]
  },
  {
   "cell_type": "code",
   "execution_count": null,
   "id": "8a1637e8-c493-46f3-86ad-0a2850bca476",
   "metadata": {},
   "outputs": [],
   "source": [
    "# H, Hinv, Hscale, Hinvscale, y, ytest, ytrue, beta, snr = \\ \n",
    "#     simulate.changepoint_from_bspline(\n",
    "#         x, knots, strue, degree = dtrue,/f\n",
    "#         signal = signal, include_intercept = False,\n",
    "#         bfix = bfix, seed = None)"
   ]
  }
 ],
 "metadata": {
  "kernelspec": {
   "display_name": "Python 3 (ipykernel)",
   "language": "python",
   "name": "python3"
  },
  "language_info": {
   "codemirror_mode": {
    "name": "ipython",
    "version": 3
   },
   "file_extension": ".py",
   "mimetype": "text/x-python",
   "name": "python",
   "nbconvert_exporter": "python",
   "pygments_lexer": "ipython3",
   "version": "3.11.3"
  }
 },
 "nbformat": 4,
 "nbformat_minor": 5
}
